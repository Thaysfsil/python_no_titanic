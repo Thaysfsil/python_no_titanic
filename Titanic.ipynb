{
 "cells": [
  {
   "cell_type": "markdown",
   "metadata": {
    "nbpresent": {
     "id": "611fc903-4364-41bf-94a8-b6b406080b15"
    }
   },
   "source": [
    "<img src=\"images/Head.png\"/>"
   ]
  },
  {
   "cell_type": "markdown",
   "metadata": {
    "nbpresent": {
     "id": "cddd0d57-9178-4755-bd1f-1840752aadc7"
    }
   },
   "source": [
    "<b> Banco de dados Titanic: http://biostat.mc.vanderbilt.edu/wiki/pub/Main/DataSets/titanic3.xls </b>"
   ]
  },
  {
   "cell_type": "code",
   "execution_count": 56,
   "metadata": {
    "collapsed": true,
    "nbpresent": {
     "id": "e0b01ed7-c562-420d-89e0-03f9bedeedc1"
    }
   },
   "outputs": [],
   "source": [
    "import pandas as pd\n",
    "titanic_data = pd.read_excel('/Users/thayssilva/Documents/demo_presentation/titanic3.xls', 'titanic3',\\\n",
    "                             index_col=None, na_values=['NA'])"
   ]
  },
  {
   "cell_type": "markdown",
   "metadata": {
    "nbpresent": {
     "id": "4ea00529-6bc1-466c-901f-8a605fec9231"
    }
   },
   "source": [
    "<img src=\"images/Sobrevivente.png\"/>"
   ]
  },
  {
   "cell_type": "code",
   "execution_count": 57,
   "metadata": {
    "collapsed": false,
    "nbpresent": {
     "id": "f918befb-df0d-432c-bb2a-987ef8f21144"
    }
   },
   "outputs": [
    {
     "data": {
      "text/html": [
       "<div>\n",
       "<style scoped>\n",
       "    .dataframe tbody tr th:only-of-type {\n",
       "        vertical-align: middle;\n",
       "    }\n",
       "\n",
       "    .dataframe tbody tr th {\n",
       "        vertical-align: top;\n",
       "    }\n",
       "\n",
       "    .dataframe thead th {\n",
       "        text-align: right;\n",
       "    }\n",
       "</style>\n",
       "<table border=\"1\" class=\"dataframe\">\n",
       "  <thead>\n",
       "    <tr style=\"text-align: right;\">\n",
       "      <th></th>\n",
       "      <th>pclass</th>\n",
       "      <th>survived</th>\n",
       "      <th>name</th>\n",
       "      <th>sex</th>\n",
       "      <th>age</th>\n",
       "      <th>sibsp</th>\n",
       "      <th>parch</th>\n",
       "      <th>ticket</th>\n",
       "      <th>fare</th>\n",
       "      <th>cabin</th>\n",
       "      <th>embarked</th>\n",
       "      <th>boat</th>\n",
       "      <th>body</th>\n",
       "      <th>home.dest</th>\n",
       "    </tr>\n",
       "  </thead>\n",
       "  <tbody>\n",
       "    <tr>\n",
       "      <th>0</th>\n",
       "      <td>1</td>\n",
       "      <td>1</td>\n",
       "      <td>Allen, Miss. Elisabeth Walton</td>\n",
       "      <td>female</td>\n",
       "      <td>29.0000</td>\n",
       "      <td>0</td>\n",
       "      <td>0</td>\n",
       "      <td>24160</td>\n",
       "      <td>211.3375</td>\n",
       "      <td>B5</td>\n",
       "      <td>S</td>\n",
       "      <td>2</td>\n",
       "      <td>NaN</td>\n",
       "      <td>St Louis, MO</td>\n",
       "    </tr>\n",
       "    <tr>\n",
       "      <th>1</th>\n",
       "      <td>1</td>\n",
       "      <td>1</td>\n",
       "      <td>Allison, Master. Hudson Trevor</td>\n",
       "      <td>male</td>\n",
       "      <td>0.9167</td>\n",
       "      <td>1</td>\n",
       "      <td>2</td>\n",
       "      <td>113781</td>\n",
       "      <td>151.5500</td>\n",
       "      <td>C22 C26</td>\n",
       "      <td>S</td>\n",
       "      <td>11</td>\n",
       "      <td>NaN</td>\n",
       "      <td>Montreal, PQ / Chesterville, ON</td>\n",
       "    </tr>\n",
       "    <tr>\n",
       "      <th>2</th>\n",
       "      <td>1</td>\n",
       "      <td>0</td>\n",
       "      <td>Allison, Miss. Helen Loraine</td>\n",
       "      <td>female</td>\n",
       "      <td>2.0000</td>\n",
       "      <td>1</td>\n",
       "      <td>2</td>\n",
       "      <td>113781</td>\n",
       "      <td>151.5500</td>\n",
       "      <td>C22 C26</td>\n",
       "      <td>S</td>\n",
       "      <td>NaN</td>\n",
       "      <td>NaN</td>\n",
       "      <td>Montreal, PQ / Chesterville, ON</td>\n",
       "    </tr>\n",
       "    <tr>\n",
       "      <th>3</th>\n",
       "      <td>1</td>\n",
       "      <td>0</td>\n",
       "      <td>Allison, Mr. Hudson Joshua Creighton</td>\n",
       "      <td>male</td>\n",
       "      <td>30.0000</td>\n",
       "      <td>1</td>\n",
       "      <td>2</td>\n",
       "      <td>113781</td>\n",
       "      <td>151.5500</td>\n",
       "      <td>C22 C26</td>\n",
       "      <td>S</td>\n",
       "      <td>NaN</td>\n",
       "      <td>135.0</td>\n",
       "      <td>Montreal, PQ / Chesterville, ON</td>\n",
       "    </tr>\n",
       "    <tr>\n",
       "      <th>4</th>\n",
       "      <td>1</td>\n",
       "      <td>0</td>\n",
       "      <td>Allison, Mrs. Hudson J C (Bessie Waldo Daniels)</td>\n",
       "      <td>female</td>\n",
       "      <td>25.0000</td>\n",
       "      <td>1</td>\n",
       "      <td>2</td>\n",
       "      <td>113781</td>\n",
       "      <td>151.5500</td>\n",
       "      <td>C22 C26</td>\n",
       "      <td>S</td>\n",
       "      <td>NaN</td>\n",
       "      <td>NaN</td>\n",
       "      <td>Montreal, PQ / Chesterville, ON</td>\n",
       "    </tr>\n",
       "  </tbody>\n",
       "</table>\n",
       "</div>"
      ],
      "text/plain": [
       "   pclass  survived                                             name     sex  \\\n",
       "0       1         1                    Allen, Miss. Elisabeth Walton  female   \n",
       "1       1         1                   Allison, Master. Hudson Trevor    male   \n",
       "2       1         0                     Allison, Miss. Helen Loraine  female   \n",
       "3       1         0             Allison, Mr. Hudson Joshua Creighton    male   \n",
       "4       1         0  Allison, Mrs. Hudson J C (Bessie Waldo Daniels)  female   \n",
       "\n",
       "       age  sibsp  parch  ticket      fare    cabin embarked boat   body  \\\n",
       "0  29.0000      0      0   24160  211.3375       B5        S    2    NaN   \n",
       "1   0.9167      1      2  113781  151.5500  C22 C26        S   11    NaN   \n",
       "2   2.0000      1      2  113781  151.5500  C22 C26        S  NaN    NaN   \n",
       "3  30.0000      1      2  113781  151.5500  C22 C26        S  NaN  135.0   \n",
       "4  25.0000      1      2  113781  151.5500  C22 C26        S  NaN    NaN   \n",
       "\n",
       "                         home.dest  \n",
       "0                     St Louis, MO  \n",
       "1  Montreal, PQ / Chesterville, ON  \n",
       "2  Montreal, PQ / Chesterville, ON  \n",
       "3  Montreal, PQ / Chesterville, ON  \n",
       "4  Montreal, PQ / Chesterville, ON  "
      ]
     },
     "execution_count": 57,
     "metadata": {},
     "output_type": "execute_result"
    }
   ],
   "source": [
    "titanic_data.head()"
   ]
  },
  {
   "cell_type": "code",
   "execution_count": 58,
   "metadata": {
    "collapsed": false,
    "nbpresent": {
     "id": "18d35689-0cde-427e-beeb-342ea7608683"
    }
   },
   "outputs": [
    {
     "data": {
      "text/html": [
       "<div>\n",
       "<style scoped>\n",
       "    .dataframe tbody tr th:only-of-type {\n",
       "        vertical-align: middle;\n",
       "    }\n",
       "\n",
       "    .dataframe tbody tr th {\n",
       "        vertical-align: top;\n",
       "    }\n",
       "\n",
       "    .dataframe thead th {\n",
       "        text-align: right;\n",
       "    }\n",
       "</style>\n",
       "<table border=\"1\" class=\"dataframe\">\n",
       "  <thead>\n",
       "    <tr style=\"text-align: right;\">\n",
       "      <th></th>\n",
       "      <th>pclass</th>\n",
       "      <th>survived</th>\n",
       "      <th>age</th>\n",
       "      <th>sibsp</th>\n",
       "      <th>parch</th>\n",
       "      <th>fare</th>\n",
       "      <th>body</th>\n",
       "    </tr>\n",
       "  </thead>\n",
       "  <tbody>\n",
       "    <tr>\n",
       "      <th>count</th>\n",
       "      <td>1309.000000</td>\n",
       "      <td>1309.000000</td>\n",
       "      <td>1046.000000</td>\n",
       "      <td>1309.000000</td>\n",
       "      <td>1309.000000</td>\n",
       "      <td>1308.000000</td>\n",
       "      <td>121.000000</td>\n",
       "    </tr>\n",
       "    <tr>\n",
       "      <th>mean</th>\n",
       "      <td>2.294882</td>\n",
       "      <td>0.381971</td>\n",
       "      <td>29.881135</td>\n",
       "      <td>0.498854</td>\n",
       "      <td>0.385027</td>\n",
       "      <td>33.295479</td>\n",
       "      <td>160.809917</td>\n",
       "    </tr>\n",
       "    <tr>\n",
       "      <th>std</th>\n",
       "      <td>0.837836</td>\n",
       "      <td>0.486055</td>\n",
       "      <td>14.413500</td>\n",
       "      <td>1.041658</td>\n",
       "      <td>0.865560</td>\n",
       "      <td>51.758668</td>\n",
       "      <td>97.696922</td>\n",
       "    </tr>\n",
       "    <tr>\n",
       "      <th>min</th>\n",
       "      <td>1.000000</td>\n",
       "      <td>0.000000</td>\n",
       "      <td>0.166700</td>\n",
       "      <td>0.000000</td>\n",
       "      <td>0.000000</td>\n",
       "      <td>0.000000</td>\n",
       "      <td>1.000000</td>\n",
       "    </tr>\n",
       "    <tr>\n",
       "      <th>25%</th>\n",
       "      <td>2.000000</td>\n",
       "      <td>0.000000</td>\n",
       "      <td>21.000000</td>\n",
       "      <td>0.000000</td>\n",
       "      <td>0.000000</td>\n",
       "      <td>7.895800</td>\n",
       "      <td>72.000000</td>\n",
       "    </tr>\n",
       "    <tr>\n",
       "      <th>50%</th>\n",
       "      <td>3.000000</td>\n",
       "      <td>0.000000</td>\n",
       "      <td>28.000000</td>\n",
       "      <td>0.000000</td>\n",
       "      <td>0.000000</td>\n",
       "      <td>14.454200</td>\n",
       "      <td>155.000000</td>\n",
       "    </tr>\n",
       "    <tr>\n",
       "      <th>75%</th>\n",
       "      <td>3.000000</td>\n",
       "      <td>1.000000</td>\n",
       "      <td>39.000000</td>\n",
       "      <td>1.000000</td>\n",
       "      <td>0.000000</td>\n",
       "      <td>31.275000</td>\n",
       "      <td>256.000000</td>\n",
       "    </tr>\n",
       "    <tr>\n",
       "      <th>max</th>\n",
       "      <td>3.000000</td>\n",
       "      <td>1.000000</td>\n",
       "      <td>80.000000</td>\n",
       "      <td>8.000000</td>\n",
       "      <td>9.000000</td>\n",
       "      <td>512.329200</td>\n",
       "      <td>328.000000</td>\n",
       "    </tr>\n",
       "  </tbody>\n",
       "</table>\n",
       "</div>"
      ],
      "text/plain": [
       "            pclass     survived          age        sibsp        parch  \\\n",
       "count  1309.000000  1309.000000  1046.000000  1309.000000  1309.000000   \n",
       "mean      2.294882     0.381971    29.881135     0.498854     0.385027   \n",
       "std       0.837836     0.486055    14.413500     1.041658     0.865560   \n",
       "min       1.000000     0.000000     0.166700     0.000000     0.000000   \n",
       "25%       2.000000     0.000000    21.000000     0.000000     0.000000   \n",
       "50%       3.000000     0.000000    28.000000     0.000000     0.000000   \n",
       "75%       3.000000     1.000000    39.000000     1.000000     0.000000   \n",
       "max       3.000000     1.000000    80.000000     8.000000     9.000000   \n",
       "\n",
       "              fare        body  \n",
       "count  1308.000000  121.000000  \n",
       "mean     33.295479  160.809917  \n",
       "std      51.758668   97.696922  \n",
       "min       0.000000    1.000000  \n",
       "25%       7.895800   72.000000  \n",
       "50%      14.454200  155.000000  \n",
       "75%      31.275000  256.000000  \n",
       "max     512.329200  328.000000  "
      ]
     },
     "execution_count": 58,
     "metadata": {},
     "output_type": "execute_result"
    }
   ],
   "source": [
    "titanic_data.describe()"
   ]
  },
  {
   "cell_type": "code",
   "execution_count": 59,
   "metadata": {
    "collapsed": false,
    "nbpresent": {
     "id": "2f67ca93-b446-457b-a324-78186ddc97c7"
    }
   },
   "outputs": [
    {
     "data": {
      "text/plain": [
       "pclass          0\n",
       "survived        0\n",
       "name            0\n",
       "sex             0\n",
       "age           263\n",
       "sibsp           0\n",
       "parch           0\n",
       "ticket          0\n",
       "fare            1\n",
       "cabin        1014\n",
       "embarked        2\n",
       "boat          823\n",
       "body         1188\n",
       "home.dest     564\n",
       "dtype: int64"
      ]
     },
     "execution_count": 59,
     "metadata": {},
     "output_type": "execute_result"
    }
   ],
   "source": [
    "titanic_data.isnull().sum()"
   ]
  },
  {
   "cell_type": "code",
   "execution_count": 60,
   "metadata": {
    "collapsed": false,
    "nbpresent": {
     "id": "0ebeb920-2a06-4666-860d-baefa79dfc19"
    }
   },
   "outputs": [
    {
     "name": "stdout",
     "output_type": "stream",
     "text": [
      "Primeira Classe\n",
      "{'male': 179, 'female': 144}\n",
      "Segunda Classe\n",
      "{'male': 171, 'female': 106}\n",
      "Terceira Classe\n",
      "{'male': 493, 'female': 216}\n"
     ]
    }
   ],
   "source": [
    "classes=['Primeira Classe','Segunda Classe','Terceira Classe']\n",
    "Classe_group = titanic_data.groupby('pclass')\n",
    "for key, df in Classe_group:\n",
    "    print(classes[key-1])\n",
    "    print(dict(df['sex'].value_counts()))"
   ]
  },
  {
   "cell_type": "code",
   "execution_count": 61,
   "metadata": {
    "collapsed": false,
    "nbpresent": {
     "id": "655da98e-0ccf-4cf1-877c-59967f62efa0"
    }
   },
   "outputs": [
    {
     "name": "stdout",
     "output_type": "stream",
     "text": [
      "Primeira Classe\n",
      "{'male': 61, 'female': 139}\n",
      "Segunda Classe\n",
      "{'male': 25, 'female': 94}\n",
      "Terceira Classe\n",
      "{'male': 75, 'female': 106}\n"
     ]
    }
   ],
   "source": [
    "classes=['Primeira Classe','Segunda Classe','Terceira Classe']\n",
    "Classe_grupo = titanic_data.groupby('pclass')\n",
    "for key, df in Classe_grupo:\n",
    "    print(classes[key-1])\n",
    "    print(dict(df[df.survived == 1]['sex'].value_counts()))"
   ]
  },
  {
   "cell_type": "markdown",
   "metadata": {
    "nbpresent": {
     "id": "f16ae9dd-f261-421d-b08d-81277102eb64"
    }
   },
   "source": [
    "<img src=\"images/porcent.png\" height=\"500\" width=\"500\"/>"
   ]
  },
  {
   "cell_type": "code",
   "execution_count": 62,
   "metadata": {
    "collapsed": false,
    "nbpresent": {
     "id": "b80f55a3-82b3-4fe4-b73c-161fd42182cc"
    }
   },
   "outputs": [
    {
     "name": "stdout",
     "output_type": "stream",
     "text": [
      "Primeira Classe\n",
      "{'male': 41.029249668874172, 'female': 37.037593984962406}\n",
      "Segunda Classe\n",
      "{'male': 30.815400632911395, 'female': 27.499191262135923}\n",
      "Terceira Classe\n",
      "{'male': 25.962273065902579, 'female': 22.185307236842103}\n"
     ]
    }
   ],
   "source": [
    "for key, df in Classe_grupo:\n",
    "    print(classes[key-1])\n",
    "    print(dict(df.groupby('sex')['age'].mean()))"
   ]
  },
  {
   "cell_type": "markdown",
   "metadata": {
    "nbpresent": {
     "id": "08bb88ea-4b62-48a4-8509-6995f429d5f1"
    }
   },
   "source": [
    "<img src=\"images/age.png\" height=\"500\" width=\"500\"/>"
   ]
  },
  {
   "cell_type": "markdown",
   "metadata": {
    "nbpresent": {
     "id": "32a01f27-5a14-4afa-aee9-38ffdb85a6df"
    }
   },
   "source": [
    "<b>Pré-processamento</b>"
   ]
  },
  {
   "cell_type": "code",
   "execution_count": 63,
   "metadata": {
    "collapsed": true,
    "nbpresent": {
     "id": "72c8d07f-9048-4c60-8f9c-46e03c54429e"
    }
   },
   "outputs": [],
   "source": [
    "#Remove colunas com maior quantidade de nulos, remove linhas com dados nulos \n",
    "titanic_data = titanic_data.drop(['body','cabin','boat'], axis=1)\n",
    "titanic_data[\"home.dest\"] = titanic_data[\"home.dest\"].fillna(\"NA\")\n",
    "titanic_data = titanic_data.dropna()"
   ]
  },
  {
   "cell_type": "code",
   "execution_count": 64,
   "metadata": {
    "collapsed": false,
    "nbpresent": {
     "id": "7338e9e2-1b32-4dcb-a224-cf10be8df480"
    }
   },
   "outputs": [
    {
     "data": {
      "text/html": [
       "<div>\n",
       "<style scoped>\n",
       "    .dataframe tbody tr th:only-of-type {\n",
       "        vertical-align: middle;\n",
       "    }\n",
       "\n",
       "    .dataframe tbody tr th {\n",
       "        vertical-align: top;\n",
       "    }\n",
       "\n",
       "    .dataframe thead th {\n",
       "        text-align: right;\n",
       "    }\n",
       "</style>\n",
       "<table border=\"1\" class=\"dataframe\">\n",
       "  <thead>\n",
       "    <tr style=\"text-align: right;\">\n",
       "      <th></th>\n",
       "      <th>pclass</th>\n",
       "      <th>survived</th>\n",
       "      <th>name</th>\n",
       "      <th>sex</th>\n",
       "      <th>age</th>\n",
       "      <th>sibsp</th>\n",
       "      <th>parch</th>\n",
       "      <th>ticket</th>\n",
       "      <th>fare</th>\n",
       "      <th>embarked</th>\n",
       "      <th>home.dest</th>\n",
       "    </tr>\n",
       "  </thead>\n",
       "  <tbody>\n",
       "    <tr>\n",
       "      <th>0</th>\n",
       "      <td>1</td>\n",
       "      <td>1</td>\n",
       "      <td>Allen, Miss. Elisabeth Walton</td>\n",
       "      <td>0</td>\n",
       "      <td>29.0000</td>\n",
       "      <td>0</td>\n",
       "      <td>0</td>\n",
       "      <td>24160</td>\n",
       "      <td>211.3375</td>\n",
       "      <td>S</td>\n",
       "      <td>St Louis, MO</td>\n",
       "    </tr>\n",
       "    <tr>\n",
       "      <th>1</th>\n",
       "      <td>1</td>\n",
       "      <td>1</td>\n",
       "      <td>Allison, Master. Hudson Trevor</td>\n",
       "      <td>1</td>\n",
       "      <td>0.9167</td>\n",
       "      <td>1</td>\n",
       "      <td>2</td>\n",
       "      <td>113781</td>\n",
       "      <td>151.5500</td>\n",
       "      <td>S</td>\n",
       "      <td>Montreal, PQ / Chesterville, ON</td>\n",
       "    </tr>\n",
       "    <tr>\n",
       "      <th>2</th>\n",
       "      <td>1</td>\n",
       "      <td>0</td>\n",
       "      <td>Allison, Miss. Helen Loraine</td>\n",
       "      <td>0</td>\n",
       "      <td>2.0000</td>\n",
       "      <td>1</td>\n",
       "      <td>2</td>\n",
       "      <td>113781</td>\n",
       "      <td>151.5500</td>\n",
       "      <td>S</td>\n",
       "      <td>Montreal, PQ / Chesterville, ON</td>\n",
       "    </tr>\n",
       "    <tr>\n",
       "      <th>3</th>\n",
       "      <td>1</td>\n",
       "      <td>0</td>\n",
       "      <td>Allison, Mr. Hudson Joshua Creighton</td>\n",
       "      <td>1</td>\n",
       "      <td>30.0000</td>\n",
       "      <td>1</td>\n",
       "      <td>2</td>\n",
       "      <td>113781</td>\n",
       "      <td>151.5500</td>\n",
       "      <td>S</td>\n",
       "      <td>Montreal, PQ / Chesterville, ON</td>\n",
       "    </tr>\n",
       "    <tr>\n",
       "      <th>4</th>\n",
       "      <td>1</td>\n",
       "      <td>0</td>\n",
       "      <td>Allison, Mrs. Hudson J C (Bessie Waldo Daniels)</td>\n",
       "      <td>0</td>\n",
       "      <td>25.0000</td>\n",
       "      <td>1</td>\n",
       "      <td>2</td>\n",
       "      <td>113781</td>\n",
       "      <td>151.5500</td>\n",
       "      <td>S</td>\n",
       "      <td>Montreal, PQ / Chesterville, ON</td>\n",
       "    </tr>\n",
       "  </tbody>\n",
       "</table>\n",
       "</div>"
      ],
      "text/plain": [
       "   pclass  survived                                             name  sex  \\\n",
       "0       1         1                    Allen, Miss. Elisabeth Walton    0   \n",
       "1       1         1                   Allison, Master. Hudson Trevor    1   \n",
       "2       1         0                     Allison, Miss. Helen Loraine    0   \n",
       "3       1         0             Allison, Mr. Hudson Joshua Creighton    1   \n",
       "4       1         0  Allison, Mrs. Hudson J C (Bessie Waldo Daniels)    0   \n",
       "\n",
       "       age  sibsp  parch  ticket      fare embarked  \\\n",
       "0  29.0000      0      0   24160  211.3375        S   \n",
       "1   0.9167      1      2  113781  151.5500        S   \n",
       "2   2.0000      1      2  113781  151.5500        S   \n",
       "3  30.0000      1      2  113781  151.5500        S   \n",
       "4  25.0000      1      2  113781  151.5500        S   \n",
       "\n",
       "                         home.dest  \n",
       "0                     St Louis, MO  \n",
       "1  Montreal, PQ / Chesterville, ON  \n",
       "2  Montreal, PQ / Chesterville, ON  \n",
       "3  Montreal, PQ / Chesterville, ON  \n",
       "4  Montreal, PQ / Chesterville, ON  "
      ]
     },
     "execution_count": 64,
     "metadata": {},
     "output_type": "execute_result"
    }
   ],
   "source": [
    "#Remove dados com alta correlação, informação posteriore, irrelevante para classificação\n",
    "from sklearn import preprocessing\n",
    "titanic_preprocesso= titanic_data.copy()\n",
    "encoder= preprocessing.LabelEncoder()\n",
    "titanic_preprocesso.sex = encoder.fit_transform(titanic_data.sex)\n",
    "titanic_preprocesso.head()"
   ]
  },
  {
   "cell_type": "code",
   "execution_count": null,
   "metadata": {
    "collapsed": true
   },
   "outputs": [],
   "source": [
    "titanic_preprocesso = titanic_preprocesso.drop(['name','ticket','home.dest','fare','embarked'],axis=1)"
   ]
  },
  {
   "cell_type": "code",
   "execution_count": 42,
   "metadata": {
    "collapsed": true,
    "nbpresent": {
     "id": "b66da408-4c59-4c9c-83ec-d75c46a64f63"
    }
   },
   "outputs": [],
   "source": [
    "Y_dados = titanic_preprocesso['survived'].values #classe (sobreviveu, morreu)\n",
    "X_dados = titanic_preprocesso.drop(['survived'], axis=1).values #dados sem as classes"
   ]
  },
  {
   "cell_type": "markdown",
   "metadata": {
    "nbpresent": {
     "id": "4b624590-824a-4340-9cf0-72993416ef5d"
    }
   },
   "source": [
    "<img src=\"images/train-test.png\"/>"
   ]
  },
  {
   "cell_type": "code",
   "execution_count": 43,
   "metadata": {
    "collapsed": false,
    "nbpresent": {
     "id": "a26ae1a3-10d6-453b-8e54-daeaed28b6e6"
    }
   },
   "outputs": [],
   "source": [
    "from sklearn import cross_validation\n",
    "X_train, X_test, y_train, y_test = cross_validation.train_test_split(X_dados,Y_dados,test_size=0.2)"
   ]
  },
  {
   "cell_type": "markdown",
   "metadata": {
    "nbpresent": {
     "id": "5303d8bb-d1bb-41af-a658-6adaf06883a0"
    }
   },
   "source": [
    "<img src=\"images/tree.png\"/>"
   ]
  },
  {
   "cell_type": "code",
   "execution_count": 49,
   "metadata": {
    "collapsed": false,
    "nbpresent": {
     "id": "b730a123-59ce-4ad7-a449-986b944c8697"
    }
   },
   "outputs": [
    {
     "name": "stdout",
     "output_type": "stream",
     "text": [
      "Precisão: 0.79\n"
     ]
    }
   ],
   "source": [
    "#Árvore de decisão com profundidade 4 \n",
    "from sklearn import tree\n",
    "arvore_decisao = tree.DecisionTreeClassifier(max_depth=4)\n",
    "arvore_decisao.fit (X_train, y_train) #treinamento \n",
    "precisao = arvore_decisao.score (X_test, y_test) #teste\n",
    "\n",
    "print(\"Precisão: %.2f\"%precisao)"
   ]
  },
  {
   "cell_type": "code",
   "execution_count": 96,
   "metadata": {
    "collapsed": false,
    "nbpresent": {
     "id": "a10c51a6-1344-4fe1-ae3e-964250cbf50a"
    }
   },
   "outputs": [
    {
     "name": "stdout",
     "output_type": "stream",
     "text": [
      "Precisão: 0.80\n"
     ]
    }
   ],
   "source": [
    "#Árvore de decisão com profundidade 5 \n",
    "from sklearn import tree\n",
    "arvore_decisao = tree.DecisionTreeClassifier(max_depth=5)\n",
    "arvore_decisao.fit (X_train, y_train) #treinamento \n",
    "precisao = arvore_decisao.score (X_test, y_test) #teste\n",
    "\n",
    "print(\"Precisão: %.2f\"%precisao)"
   ]
  },
  {
   "cell_type": "markdown",
   "metadata": {
    "nbpresent": {
     "id": "f53f46ca-84f6-4b5e-85c0-4cc45f155bc3"
    }
   },
   "source": [
    "<img src=\"images/mlp.png\"/>"
   ]
  },
  {
   "cell_type": "code",
   "execution_count": 91,
   "metadata": {
    "collapsed": false,
    "nbpresent": {
     "id": "0ce5d3f4-d249-4f9c-b8b5-cee236b18457"
    }
   },
   "outputs": [
    {
     "name": "stdout",
     "output_type": "stream",
     "text": [
      "Precisão: 0.80\n"
     ]
    }
   ],
   "source": [
    "#MLP com camadas escondidas = (5, 2)\n",
    "from sklearn.neural_network import MLPClassifier\n",
    "mlp = MLPClassifier(solver='lbfgs', alpha=1e-5,\n",
    "                     hidden_layer_sizes=(5, 2), random_state=1, activation='logistic',  verbose=True)\n",
    "\n",
    "mlp.fit (X_train, y_train) #treinamento \n",
    "precisao = mlp.score (X_test, y_test) #teste\n",
    "\n",
    "print(\"Precisão: %.2f\"%precisao)"
   ]
  },
  {
   "cell_type": "code",
   "execution_count": 92,
   "metadata": {
    "collapsed": false,
    "nbpresent": {
     "id": "ba3de54c-aaa8-4294-8d3f-0205461b1ca7"
    }
   },
   "outputs": [
    {
     "name": "stdout",
     "output_type": "stream",
     "text": [
      "Precisão: 0.80\n"
     ]
    }
   ],
   "source": [
    "#MLP com camadas escondidas = (15, 3)\n",
    "from sklearn.neural_network import MLPClassifier\n",
    "mlp = MLPClassifier(solver='lbfgs', alpha=1e-5,\n",
    "                     hidden_layer_sizes=(15, 3), random_state=1, activation='logistic',  verbose=True)\n",
    "\n",
    "mlp.fit (X_train, y_train) #treinamento \n",
    "precisao = mlp.score (X_test, y_test) #teste\n",
    "\n",
    "print(\"Precisão: %.2f\"%precisao)"
   ]
  },
  {
   "cell_type": "markdown",
   "metadata": {
    "nbpresent": {
     "id": "5d0d082d-e501-4b6a-a9aa-cc79131aaf4e"
    }
   },
   "source": [
    "<img src=\"images/knn.png\"/>"
   ]
  },
  {
   "cell_type": "code",
   "execution_count": 72,
   "metadata": {
    "collapsed": false,
    "nbpresent": {
     "id": "66562891-e7f6-4d97-9457-2628a5684887"
    }
   },
   "outputs": [
    {
     "name": "stdout",
     "output_type": "stream",
     "text": [
      "Precisão: 0.75\n"
     ]
    }
   ],
   "source": [
    "#KNN com K vizinhos = 3\n",
    "from sklearn import neighbors\n",
    "knn=neighbors.KNeighborsClassifier(3)\n",
    "knn.fit (X_train, y_train) #treinamento \n",
    "precisao = knn.score (X_test, y_test) #teste\n",
    "\n",
    "print(\"Precisão: %.2f\"%precisao)"
   ]
  },
  {
   "cell_type": "code",
   "execution_count": 73,
   "metadata": {
    "collapsed": false,
    "nbpresent": {
     "id": "63d1af45-3216-44a1-82fa-ef5fa421b8cf"
    }
   },
   "outputs": [
    {
     "name": "stdout",
     "output_type": "stream",
     "text": [
      "Precisão: 0.75\n"
     ]
    }
   ],
   "source": [
    "#KNN com K vizinhos = 11\n",
    "from sklearn import neighbors\n",
    "knn=neighbors.KNeighborsClassifier(11)\n",
    "knn.fit (X_train, y_train) #treinamento \n",
    "precisao = knn.score (X_test, y_test) #teste\n",
    "\n",
    "print(\"Precisão: %.2f\"%precisao)"
   ]
  },
  {
   "cell_type": "markdown",
   "metadata": {
    "collapsed": true
   },
   "source": [
    "<img src=\"images/olaus.png\"/>"
   ]
  },
  {
   "cell_type": "code",
   "execution_count": 97,
   "metadata": {
    "collapsed": false
   },
   "outputs": [
    {
     "name": "stdout",
     "output_type": "stream",
     "text": [
      "Arvore Decisao: 0\n",
      "MLP: 0\n",
      "KNN: 0\n"
     ]
    }
   ],
   "source": [
    "#criando dados de um individuo\n",
    "classe = 3\n",
    "sexo = 1\n",
    "idade = 25\n",
    "irmao_marido = 0\n",
    "pais_filho = 0\n",
    "olaus = [classe, sexo, idade, irmao_marido, pais_filho ]\n",
    "\n",
    "print(\"Arvore Decisao: %.f\"% arvore_decisao.predict([olaus]))\n",
    "print(\"MLP: %.f\"%mlp.predict([olaus]))\n",
    "print(\"KNN: %.f\"%knn.predict([olaus]))"
   ]
  },
  {
   "cell_type": "markdown",
   "metadata": {},
   "source": [
    "<img src=\"images/jack.png\"/>"
   ]
  },
  {
   "cell_type": "code",
   "execution_count": 90,
   "metadata": {
    "collapsed": false
   },
   "outputs": [
    {
     "name": "stdout",
     "output_type": "stream",
     "text": [
      "Arvore Decisao: 0\n",
      "MLP: 0\n",
      "KNN: 0\n"
     ]
    }
   ],
   "source": [
    "#Criando Dados do Jack\n",
    "classe = 3\n",
    "sexo = 1\n",
    "idade = 19\n",
    "irmao_marido = 0\n",
    "pais_filho = 0\n",
    "jack = [classe, sexo, idade, irmao_marido, pais_filho ]\n",
    "\n",
    "print(\"Arvore Decisao: %.f\"% arvore_decisao.predict([olaus]))\n",
    "print(\"MLP: %.f\"%mlp.predict([olaus]))\n",
    "print(\"KNN: %.f\"%knn.predict([olaus]))"
   ]
  }
 ],
 "metadata": {
  "anaconda-cloud": {},
  "kernelspec": {
   "display_name": "Python [conda env:pcc]",
   "language": "python",
   "name": "conda-env-pcc-py"
  },
  "language_info": {
   "codemirror_mode": {
    "name": "ipython",
    "version": 3
   },
   "file_extension": ".py",
   "mimetype": "text/x-python",
   "name": "python",
   "nbconvert_exporter": "python",
   "pygments_lexer": "ipython3",
   "version": "3.5.2"
  },
  "nbpresent": {
   "slides": {
    "02fe5283-2aa5-46bb-8d43-6ebff9b56c05": {
     "id": "02fe5283-2aa5-46bb-8d43-6ebff9b56c05",
     "prev": "72892ebf-7a1b-4e05-9a79-8b8cdf068c3b",
     "regions": {
      "ab680991-99d1-4cd4-b922-6b779e08fc69": {
       "attrs": {
        "height": 0.8,
        "width": 0.8,
        "x": 0.1,
        "y": 0.1
       },
       "content": {
        "cell": "a26ae1a3-10d6-453b-8e54-daeaed28b6e6",
        "part": "whole"
       },
       "id": "ab680991-99d1-4cd4-b922-6b779e08fc69"
      }
     }
    },
    "0690b7b2-a523-4215-8e21-05472ff283bf": {
     "id": "0690b7b2-a523-4215-8e21-05472ff283bf",
     "prev": "02fe5283-2aa5-46bb-8d43-6ebff9b56c05",
     "regions": {
      "54087b23-58fd-432b-bedb-0df3642d2d6e": {
       "attrs": {
        "height": 0.8,
        "width": 0.8,
        "x": 0.1,
        "y": 0.1
       },
       "content": {
        "cell": "5303d8bb-d1bb-41af-a658-6adaf06883a0",
        "part": "whole"
       },
       "id": "54087b23-58fd-432b-bedb-0df3642d2d6e"
      }
     }
    },
    "141a5817-c82c-46e7-baaf-9fdbd93f9386": {
     "id": "141a5817-c82c-46e7-baaf-9fdbd93f9386",
     "prev": "36917ffc-88b9-4b4a-9c93-32c96ec5f349",
     "regions": {
      "1631ac84-a42e-4087-94e9-1616ba1c0403": {
       "attrs": {
        "height": 0.8,
        "width": 0.8,
        "x": 0.1,
        "y": 0.1
       },
       "content": {
        "cell": "f16ae9dd-f261-421d-b08d-81277102eb64",
        "part": "whole"
       },
       "id": "1631ac84-a42e-4087-94e9-1616ba1c0403"
      }
     }
    },
    "168c2eed-359f-4663-94f9-7c9282a56060": {
     "id": "168c2eed-359f-4663-94f9-7c9282a56060",
     "prev": "4c9b8116-858a-44a1-98e7-06e8c69cd8a5",
     "regions": {
      "255d2660-dad5-491c-9c0e-aef57de3c254": {
       "attrs": {
        "height": 0.8,
        "width": 0.8,
        "x": 0.1,
        "y": 0.1
       },
       "content": {
        "cell": "66562891-e7f6-4d97-9457-2628a5684887",
        "part": "whole"
       },
       "id": "255d2660-dad5-491c-9c0e-aef57de3c254"
      }
     }
    },
    "24e3b115-339a-464a-b177-74a58589a06d": {
     "id": "24e3b115-339a-464a-b177-74a58589a06d",
     "prev": "c6407c86-26e0-4d42-bab1-8ba4c036811b",
     "regions": {
      "1e135ae5-210e-4c17-be8c-52cbdb410aef": {
       "attrs": {
        "height": 0.8,
        "width": 0.8,
        "x": 0.1,
        "y": 0.1
       },
       "content": {
        "cell": "03b3d4ce-acda-4575-a9b4-32dc369a79c5",
        "part": "whole"
       },
       "id": "1e135ae5-210e-4c17-be8c-52cbdb410aef"
      }
     }
    },
    "32105c05-152c-4eb0-9e9a-970e1a4b85d1": {
     "id": "32105c05-152c-4eb0-9e9a-970e1a4b85d1",
     "prev": "6ca58dec-9604-4fcf-b114-293ac5c66163",
     "regions": {
      "f1c7154c-0e12-4e4d-96ef-4eb2b5b97096": {
       "attrs": {
        "height": 0.8,
        "width": 0.8,
        "x": 0.1,
        "y": 0.1
       },
       "content": {
        "cell": "18d35689-0cde-427e-beeb-342ea7608683",
        "part": "whole"
       },
       "id": "f1c7154c-0e12-4e4d-96ef-4eb2b5b97096"
      }
     }
    },
    "36917ffc-88b9-4b4a-9c93-32c96ec5f349": {
     "id": "36917ffc-88b9-4b4a-9c93-32c96ec5f349",
     "prev": "f4619f47-f40a-4499-b9e8-80d19c2abfe0",
     "regions": {
      "8a94ee6c-81a3-4727-be3e-6ddb040a587c": {
       "attrs": {
        "height": 0.8,
        "width": 0.8,
        "x": 0.1,
        "y": 0.1
       },
       "content": {
        "cell": "655da98e-0ccf-4cf1-877c-59967f62efa0",
        "part": "whole"
       },
       "id": "8a94ee6c-81a3-4727-be3e-6ddb040a587c"
      }
     }
    },
    "40e4aa97-6f67-4a82-841d-abe9693a2b71": {
     "id": "40e4aa97-6f67-4a82-841d-abe9693a2b71",
     "prev": "0690b7b2-a523-4215-8e21-05472ff283bf",
     "regions": {
      "38bf67a3-b908-41fc-ba0b-8ad417cbae3b": {
       "attrs": {
        "height": 0.8,
        "width": 0.8,
        "x": 0.1,
        "y": 0.1
       },
       "content": {
        "cell": "b730a123-59ce-4ad7-a449-986b944c8697",
        "part": "whole"
       },
       "id": "38bf67a3-b908-41fc-ba0b-8ad417cbae3b"
      }
     }
    },
    "4c716d20-9ebc-47a3-a8d6-d1843865eca9": {
     "id": "4c716d20-9ebc-47a3-a8d6-d1843865eca9",
     "prev": "d746739e-95d6-4a4d-abc6-893e09be0349",
     "regions": {
      "a30997b3-075f-4704-ae8c-c506d86f2fa6": {
       "attrs": {
        "height": 0.8,
        "width": 0.8,
        "x": 0.1,
        "y": 0.1
       },
       "content": {
        "cell": "0ce5d3f4-d249-4f9c-b8b5-cee236b18457",
        "part": "whole"
       },
       "id": "a30997b3-075f-4704-ae8c-c506d86f2fa6"
      }
     }
    },
    "4c9b8116-858a-44a1-98e7-06e8c69cd8a5": {
     "id": "4c9b8116-858a-44a1-98e7-06e8c69cd8a5",
     "prev": "511e1537-73a2-404e-816e-f376ecddf766",
     "regions": {
      "a9ccd015-669c-40ae-928f-7e16dcfe5407": {
       "attrs": {
        "height": 0.8,
        "width": 0.8,
        "x": 0.1,
        "y": 0.1
       },
       "content": {
        "cell": "5d0d082d-e501-4b6a-a9aa-cc79131aaf4e",
        "part": "whole"
       },
       "id": "a9ccd015-669c-40ae-928f-7e16dcfe5407"
      }
     }
    },
    "50a1adc3-c2e7-445d-91bb-fb1b0547b931": {
     "id": "50a1adc3-c2e7-445d-91bb-fb1b0547b931",
     "prev": "fe1f34db-aa4f-4489-abf9-62125b532a59",
     "regions": {
      "29e98685-628c-4be8-a712-77ae42293623": {
       "attrs": {
        "height": 0.8,
        "width": 0.8,
        "x": 0.1,
        "y": 0.1
       },
       "content": {
        "cell": "cddd0d57-9178-4755-bd1f-1840752aadc7",
        "part": "whole"
       },
       "id": "29e98685-628c-4be8-a712-77ae42293623"
      }
     }
    },
    "50b1afec-1d93-4826-939f-9c5e1729d513": {
     "id": "50b1afec-1d93-4826-939f-9c5e1729d513",
     "prev": "50a1adc3-c2e7-445d-91bb-fb1b0547b931",
     "regions": {
      "3ff775fe-1416-4a6f-b79c-f55c6993b547": {
       "attrs": {
        "height": 0.8,
        "width": 0.8,
        "x": 0.1,
        "y": 0.1
       },
       "content": {
        "cell": "e0b01ed7-c562-420d-89e0-03f9bedeedc1",
        "part": "whole"
       },
       "id": "3ff775fe-1416-4a6f-b79c-f55c6993b547"
      }
     }
    },
    "511e1537-73a2-404e-816e-f376ecddf766": {
     "id": "511e1537-73a2-404e-816e-f376ecddf766",
     "prev": "4c716d20-9ebc-47a3-a8d6-d1843865eca9",
     "regions": {
      "443236b2-deba-4efb-945a-87a536d248e4": {
       "attrs": {
        "height": 0.8,
        "width": 0.8,
        "x": 0.1,
        "y": 0.1
       },
       "content": {
        "cell": "ba3de54c-aaa8-4294-8d3f-0205461b1ca7",
        "part": "whole"
       },
       "id": "443236b2-deba-4efb-945a-87a536d248e4"
      }
     }
    },
    "6ca58dec-9604-4fcf-b114-293ac5c66163": {
     "id": "6ca58dec-9604-4fcf-b114-293ac5c66163",
     "prev": "24e3b115-339a-464a-b177-74a58589a06d",
     "regions": {
      "e8bba65b-3bca-4d4a-be63-4d82883b7443": {
       "attrs": {
        "height": 0.8,
        "width": 0.8,
        "x": 0.1,
        "y": 0.1
       },
       "content": {
        "cell": "f918befb-df0d-432c-bb2a-987ef8f21144",
        "part": "whole"
       },
       "id": "e8bba65b-3bca-4d4a-be63-4d82883b7443"
      }
     }
    },
    "72892ebf-7a1b-4e05-9a79-8b8cdf068c3b": {
     "id": "72892ebf-7a1b-4e05-9a79-8b8cdf068c3b",
     "prev": "991beac3-4515-407e-9411-7c39ed80baee",
     "regions": {
      "00be0f61-1b9e-4e69-9fcc-b5b92bbf07a7": {
       "attrs": {
        "height": 0.8,
        "width": 0.8,
        "x": 0.1,
        "y": 0.1
       },
       "content": {
        "cell": "4b624590-824a-4340-9cf0-72993416ef5d",
        "part": "whole"
       },
       "id": "00be0f61-1b9e-4e69-9fcc-b5b92bbf07a7"
      }
     }
    },
    "8b0b19af-13a0-4680-a421-73a6bcd0221e": {
     "id": "8b0b19af-13a0-4680-a421-73a6bcd0221e",
     "prev": "d58da602-d541-4e68-9bab-d472e1ca9760",
     "regions": {
      "4045d0ea-0029-46ac-9048-36b5df473fc2": {
       "attrs": {
        "height": 0.8,
        "width": 0.8,
        "x": 0.1,
        "y": 0.1
       },
       "content": {
        "cell": "a2e5ef75-bf1f-427d-8c97-31e65a13ad47",
        "part": "whole"
       },
       "id": "4045d0ea-0029-46ac-9048-36b5df473fc2"
      }
     }
    },
    "991beac3-4515-407e-9411-7c39ed80baee": {
     "id": "991beac3-4515-407e-9411-7c39ed80baee",
     "prev": "fb557b91-a5a5-4fc3-bad1-ec1a0ef8ce8e",
     "regions": {
      "728162a2-6d5e-4dd4-b815-b4a2cca3d3ef": {
       "attrs": {
        "height": 0.8,
        "width": 0.8,
        "x": 0.1,
        "y": 0.1
       },
       "content": {
        "cell": "b66da408-4c59-4c9c-83ec-d75c46a64f63",
        "part": "whole"
       },
       "id": "728162a2-6d5e-4dd4-b815-b4a2cca3d3ef"
      }
     }
    },
    "bc1bcf75-2bbe-4dee-89b7-967244abefce": {
     "id": "bc1bcf75-2bbe-4dee-89b7-967244abefce",
     "prev": "d1d4c0e5-a37d-4033-9770-e156dceb6bb8",
     "regions": {
      "629abb49-655c-4f98-a794-646823832059": {
       "attrs": {
        "height": 0.8,
        "width": 0.8,
        "x": 0.1,
        "y": 0.1
       },
       "content": {
        "cell": "32a01f27-5a14-4afa-aee9-38ffdb85a6df",
        "part": "whole"
       },
       "id": "629abb49-655c-4f98-a794-646823832059"
      }
     }
    },
    "c6407c86-26e0-4d42-bab1-8ba4c036811b": {
     "id": "c6407c86-26e0-4d42-bab1-8ba4c036811b",
     "prev": "50b1afec-1d93-4826-939f-9c5e1729d513",
     "regions": {
      "5d1f8c14-7919-4cc0-8c39-40fec196e6a8": {
       "attrs": {
        "height": 0.8,
        "width": 0.8,
        "x": 0.1,
        "y": 0.1
       },
       "content": {
        "cell": "4ea00529-6bc1-466c-901f-8a605fec9231",
        "part": "whole"
       },
       "id": "5d1f8c14-7919-4cc0-8c39-40fec196e6a8"
      }
     }
    },
    "d1d4c0e5-a37d-4033-9770-e156dceb6bb8": {
     "id": "d1d4c0e5-a37d-4033-9770-e156dceb6bb8",
     "prev": "e62654cd-67cb-4205-8f9c-ef1db06f425c",
     "regions": {
      "28960669-e194-4ec5-8e92-29a1c710f647": {
       "attrs": {
        "height": 0.8,
        "width": 0.8,
        "x": 0.1,
        "y": 0.1
       },
       "content": {
        "cell": "08bb88ea-4b62-48a4-8509-6995f429d5f1",
        "part": "whole"
       },
       "id": "28960669-e194-4ec5-8e92-29a1c710f647"
      }
     }
    },
    "d58da602-d541-4e68-9bab-d472e1ca9760": {
     "id": "d58da602-d541-4e68-9bab-d472e1ca9760",
     "prev": "168c2eed-359f-4663-94f9-7c9282a56060",
     "regions": {
      "c175843c-d85c-4033-943d-6938f7c0cb68": {
       "attrs": {
        "height": 0.8,
        "width": 0.8,
        "x": 0.1,
        "y": 0.1
       },
       "content": {
        "cell": "63d1af45-3216-44a1-82fa-ef5fa421b8cf",
        "part": "whole"
       },
       "id": "c175843c-d85c-4033-943d-6938f7c0cb68"
      }
     }
    },
    "d7159ede-abdf-4396-9b9e-8cbf2e2fe016": {
     "id": "d7159ede-abdf-4396-9b9e-8cbf2e2fe016",
     "prev": "32105c05-152c-4eb0-9e9a-970e1a4b85d1",
     "regions": {
      "1df20043-9dcc-4854-92bd-ce20dc608a0b": {
       "attrs": {
        "height": 0.8,
        "width": 0.8,
        "x": 0.1,
        "y": 0.1
       },
       "content": {
        "cell": "2f67ca93-b446-457b-a324-78186ddc97c7",
        "part": "whole"
       },
       "id": "1df20043-9dcc-4854-92bd-ce20dc608a0b"
      }
     }
    },
    "d746739e-95d6-4a4d-abc6-893e09be0349": {
     "id": "d746739e-95d6-4a4d-abc6-893e09be0349",
     "prev": "e859040d-4377-41d1-bc6a-33ef1cf55e36",
     "regions": {
      "c5108f63-32bd-4044-9133-88163ac1a9c1": {
       "attrs": {
        "height": 0.8,
        "width": 0.8,
        "x": 0.1,
        "y": 0.1
       },
       "content": {
        "cell": "f53f46ca-84f6-4b5e-85c0-4cc45f155bc3",
        "part": "whole"
       },
       "id": "c5108f63-32bd-4044-9133-88163ac1a9c1"
      }
     }
    },
    "e62654cd-67cb-4205-8f9c-ef1db06f425c": {
     "id": "e62654cd-67cb-4205-8f9c-ef1db06f425c",
     "prev": "141a5817-c82c-46e7-baaf-9fdbd93f9386",
     "regions": {
      "fdfa09ca-b2e4-48ea-b0b3-d77866332837": {
       "attrs": {
        "height": 0.8,
        "width": 0.8,
        "x": 0.1,
        "y": 0.1
       },
       "content": {
        "cell": "b80f55a3-82b3-4fe4-b73c-161fd42182cc",
        "part": "whole"
       },
       "id": "fdfa09ca-b2e4-48ea-b0b3-d77866332837"
      }
     }
    },
    "e859040d-4377-41d1-bc6a-33ef1cf55e36": {
     "id": "e859040d-4377-41d1-bc6a-33ef1cf55e36",
     "prev": "40e4aa97-6f67-4a82-841d-abe9693a2b71",
     "regions": {
      "88233ea7-d276-4ecd-a215-4164e544aeb1": {
       "attrs": {
        "height": 0.8,
        "width": 0.8,
        "x": 0.1,
        "y": 0.1
       },
       "content": {
        "cell": "a10c51a6-1344-4fe1-ae3e-964250cbf50a",
        "part": "whole"
       },
       "id": "88233ea7-d276-4ecd-a215-4164e544aeb1"
      }
     }
    },
    "f4619f47-f40a-4499-b9e8-80d19c2abfe0": {
     "id": "f4619f47-f40a-4499-b9e8-80d19c2abfe0",
     "prev": "d7159ede-abdf-4396-9b9e-8cbf2e2fe016",
     "regions": {
      "e7610ffe-71d1-47a9-9847-310ab0380c8e": {
       "attrs": {
        "height": 0.8,
        "width": 0.8,
        "x": 0.1,
        "y": 0.1
       },
       "content": {
        "cell": "0ebeb920-2a06-4666-860d-baefa79dfc19",
        "part": "whole"
       },
       "id": "e7610ffe-71d1-47a9-9847-310ab0380c8e"
      }
     }
    },
    "fad44fcb-7c4b-44d3-ab48-f06bf79a1bbb": {
     "id": "fad44fcb-7c4b-44d3-ab48-f06bf79a1bbb",
     "prev": "bc1bcf75-2bbe-4dee-89b7-967244abefce",
     "regions": {
      "157e5e74-fd6e-4184-bf97-44f9683629e1": {
       "attrs": {
        "height": 0.8,
        "width": 0.8,
        "x": 0.1,
        "y": 0.1
       },
       "content": {
        "cell": "72c8d07f-9048-4c60-8f9c-46e03c54429e",
        "part": "whole"
       },
       "id": "157e5e74-fd6e-4184-bf97-44f9683629e1"
      }
     }
    },
    "fb557b91-a5a5-4fc3-bad1-ec1a0ef8ce8e": {
     "id": "fb557b91-a5a5-4fc3-bad1-ec1a0ef8ce8e",
     "prev": "fad44fcb-7c4b-44d3-ab48-f06bf79a1bbb",
     "regions": {
      "5fa4b246-b07f-4e1b-9c17-400d812f8078": {
       "attrs": {
        "height": 0.8,
        "width": 0.8,
        "x": 0.1,
        "y": 0.1
       },
       "content": {
        "cell": "7338e9e2-1b32-4dcb-a224-cf10be8df480",
        "part": "whole"
       },
       "id": "5fa4b246-b07f-4e1b-9c17-400d812f8078"
      }
     }
    },
    "fe1f34db-aa4f-4489-abf9-62125b532a59": {
     "id": "fe1f34db-aa4f-4489-abf9-62125b532a59",
     "prev": null,
     "regions": {
      "4b8b57ee-3f87-457a-94b1-456b5c941e4d": {
       "attrs": {
        "height": 0.8,
        "width": 0.8,
        "x": 0.1,
        "y": 0.1
       },
       "content": {
        "cell": "611fc903-4364-41bf-94a8-b6b406080b15",
        "part": "whole"
       },
       "id": "4b8b57ee-3f87-457a-94b1-456b5c941e4d"
      }
     }
    }
   },
   "themes": {}
  }
 },
 "nbformat": 4,
 "nbformat_minor": 1
}
